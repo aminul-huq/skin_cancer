{
 "cells": [
  {
   "cell_type": "code",
   "execution_count": 1,
   "metadata": {},
   "outputs": [
    {
     "name": "stderr",
     "output_type": "stream",
     "text": [
      "/data/aminul/anaconda3/envs/tf_1.4/lib/python3.6/site-packages/tensorflow/python/framework/dtypes.py:469: FutureWarning: Passing (type, 1) or '1type' as a synonym of type is deprecated; in a future version of numpy, it will be understood as (type, (1,)) / '(1,)type'.\n",
      "  _np_qint8 = np.dtype([(\"qint8\", np.int8, 1)])\n",
      "/data/aminul/anaconda3/envs/tf_1.4/lib/python3.6/site-packages/tensorflow/python/framework/dtypes.py:470: FutureWarning: Passing (type, 1) or '1type' as a synonym of type is deprecated; in a future version of numpy, it will be understood as (type, (1,)) / '(1,)type'.\n",
      "  _np_quint8 = np.dtype([(\"quint8\", np.uint8, 1)])\n",
      "/data/aminul/anaconda3/envs/tf_1.4/lib/python3.6/site-packages/tensorflow/python/framework/dtypes.py:471: FutureWarning: Passing (type, 1) or '1type' as a synonym of type is deprecated; in a future version of numpy, it will be understood as (type, (1,)) / '(1,)type'.\n",
      "  _np_qint16 = np.dtype([(\"qint16\", np.int16, 1)])\n",
      "/data/aminul/anaconda3/envs/tf_1.4/lib/python3.6/site-packages/tensorflow/python/framework/dtypes.py:472: FutureWarning: Passing (type, 1) or '1type' as a synonym of type is deprecated; in a future version of numpy, it will be understood as (type, (1,)) / '(1,)type'.\n",
      "  _np_quint16 = np.dtype([(\"quint16\", np.uint16, 1)])\n",
      "/data/aminul/anaconda3/envs/tf_1.4/lib/python3.6/site-packages/tensorflow/python/framework/dtypes.py:473: FutureWarning: Passing (type, 1) or '1type' as a synonym of type is deprecated; in a future version of numpy, it will be understood as (type, (1,)) / '(1,)type'.\n",
      "  _np_qint32 = np.dtype([(\"qint32\", np.int32, 1)])\n",
      "/data/aminul/anaconda3/envs/tf_1.4/lib/python3.6/site-packages/tensorflow/python/framework/dtypes.py:476: FutureWarning: Passing (type, 1) or '1type' as a synonym of type is deprecated; in a future version of numpy, it will be understood as (type, (1,)) / '(1,)type'.\n",
      "  np_resource = np.dtype([(\"resource\", np.ubyte, 1)])\n",
      "/data/aminul/anaconda3/envs/tf_1.4/lib/python3.6/importlib/_bootstrap.py:219: RuntimeWarning: compiletime version 3.5 of module 'tensorflow.python.framework.fast_tensor_util' does not match runtime version 3.6\n",
      "  return f(*args, **kwds)\n",
      "Using TensorFlow backend.\n"
     ]
    }
   ],
   "source": [
    "import pickle \n",
    "import cv2\n",
    "import numpy as np\n",
    "import random\n",
    "import matplotlib.pyplot as plt\n",
    "%matplotlib inline\n",
    "\n",
    "import tensorflow as tf\n",
    "from tensorflow import keras\n",
    "from keras.models import *\n",
    "from keras.layers import *\n",
    "from keras.optimizers import *\n",
    "from keras.callbacks import *\n",
    "from keras.utils import np_utils\n",
    "from keras.initializers import *\n",
    "from keras.preprocessing.image import ImageDataGenerator\n",
    "from keras.applications.vgg16 import VGG16\n",
    "from keras.applications.vgg16 import preprocess_input, decode_predictions\n",
    "\n",
    "from art.attacks import FastGradientMethod\n",
    "from art.attacks import ProjectedGradientDescent\n",
    "from art.classifiers import KerasClassifier\n",
    "\n",
    "from sklearn.model_selection import train_test_split\n",
    "from sklearn.metrics import accuracy_score"
   ]
  },
  {
   "cell_type": "code",
   "execution_count": 2,
   "metadata": {},
   "outputs": [],
   "source": [
    "with open('skin-cancer-dataset', 'rb') as f:\n",
    "    x_train,x_test,x_val = pickle.load(f)"
   ]
  },
  {
   "cell_type": "code",
   "execution_count": 3,
   "metadata": {},
   "outputs": [
    {
     "name": "stdout",
     "output_type": "stream",
     "text": [
      "(8111, 100, 75, 3)\n",
      "(1002, 100, 75, 3)\n",
      "(902, 100, 75, 3)\n"
     ]
    }
   ],
   "source": [
    "print(x_train.shape)\n",
    "print(x_test.shape)\n",
    "print(x_val.shape)"
   ]
  },
  {
   "cell_type": "code",
   "execution_count": 4,
   "metadata": {},
   "outputs": [],
   "source": [
    "with open('skin-cancer-dataset-label', 'rb') as f:\n",
    "    y_train,y_test,y_val = pickle.load(f)"
   ]
  },
  {
   "cell_type": "code",
   "execution_count": 5,
   "metadata": {},
   "outputs": [
    {
     "name": "stdout",
     "output_type": "stream",
     "text": [
      "(8111, 7)\n",
      "(1002, 7)\n",
      "(902, 7)\n"
     ]
    }
   ],
   "source": [
    "print(y_train.shape)\n",
    "print(y_test.shape)\n",
    "print(y_val.shape)"
   ]
  },
  {
   "cell_type": "code",
   "execution_count": 6,
   "metadata": {},
   "outputs": [],
   "source": [
    "import cv2\n",
    "dim=(224,224)\n",
    "x_new_train=[]\n",
    "x_new_test=[]\n",
    "x_new_val=[]"
   ]
  },
  {
   "cell_type": "code",
   "execution_count": 7,
   "metadata": {},
   "outputs": [],
   "source": [
    "for i in range(8111):\n",
    "    resized = cv2.resize(x_train[i], dim, interpolation = cv2.INTER_AREA)\n",
    "    x_new_train.append(resized)\n",
    "    \n",
    "for i in range(1002):\n",
    "    resized = cv2.resize(x_test[i], dim, interpolation = cv2.INTER_AREA)\n",
    "    x_new_test.append(resized)\n",
    "    \n",
    "for i in range(902):\n",
    "    resized = cv2.resize(x_val[i], dim, interpolation = cv2.INTER_AREA)\n",
    "    x_new_val.append(resized)"
   ]
  },
  {
   "cell_type": "code",
   "execution_count": 8,
   "metadata": {},
   "outputs": [],
   "source": [
    "x_new_train = np.array(x_new_train)\n",
    "x_new_test = np.array(x_new_test)\n",
    "x_new_val = np.array(x_new_val)"
   ]
  },
  {
   "cell_type": "code",
   "execution_count": 9,
   "metadata": {},
   "outputs": [],
   "source": [
    "x_new_train = np.concatenate((x_new_train,x_new_val),axis=0)\n",
    "y_train = np.concatenate((y_train,y_val),axis=0)"
   ]
  },
  {
   "cell_type": "code",
   "execution_count": 10,
   "metadata": {},
   "outputs": [
    {
     "name": "stdout",
     "output_type": "stream",
     "text": [
      "(9013, 224, 224, 3)\n",
      "(1002, 224, 224, 3)\n"
     ]
    }
   ],
   "source": [
    "print(x_new_train.shape)\n",
    "print(x_new_test.shape)"
   ]
  },
  {
   "cell_type": "code",
   "execution_count": 11,
   "metadata": {},
   "outputs": [],
   "source": [
    "#res = ResNet50(weights=None,input_shape=(224,224,3), classes=7)"
   ]
  },
  {
   "cell_type": "code",
   "execution_count": 12,
   "metadata": {},
   "outputs": [],
   "source": [
    "#dense = DenseNet121(weights=None,input_shape=(224,224,3), classes=7)\n",
    "vgg1 = VGG16(weights=None,input_shape=(224,224,3), classes=7)"
   ]
  },
  {
   "cell_type": "code",
   "execution_count": 13,
   "metadata": {},
   "outputs": [],
   "source": [
    "opt = SGD(lr=0.1,decay=0.002)\n",
    "vgg1.compile(optimizer=opt, loss='categorical_crossentropy', metrics=['accuracy'])\n",
    "lrr = ReduceLROnPlateau(monitor='val_acc', \n",
    "                        patience=3, \n",
    "                        verbose=1, \n",
    "                        factor=0.5, \n",
    "                        min_lr=0.0001)"
   ]
  },
  {
   "cell_type": "code",
   "execution_count": 14,
   "metadata": {},
   "outputs": [],
   "source": [
    "datagen = ImageDataGenerator(\n",
    "        featurewise_center=False,  # set input mean to 0 over the dataset\n",
    "        samplewise_center=False,  # set each sample mean to 0\n",
    "        featurewise_std_normalization=False,  # divide inputs by std of the dataset\n",
    "        samplewise_std_normalization=False,  # divide each input by its std\n",
    "        zca_whitening=False,  # apply ZCA whitening\n",
    "        rotation_range=10,  # randomly rotate images in the range (degrees, 0 to 180)\n",
    "        zoom_range = 0.1, # Randomly zoom image \n",
    "        width_shift_range=0.1,  # randomly shift images horizontally (fraction of total width)\n",
    "        height_shift_range=0.1,  # randomly shift images vertically (fraction of total height)\n",
    "        horizontal_flip=True,  # randomly flip images\n",
    "        vertical_flip=True)  # randomly flip images\n",
    "datagen.fit(x_new_train)"
   ]
  },
  {
   "cell_type": "code",
   "execution_count": 15,
   "metadata": {},
   "outputs": [
    {
     "name": "stdout",
     "output_type": "stream",
     "text": [
      "Epoch 1/20\n",
      "1013/1013 [==============================] - 195s 193ms/step - loss: 1.1513 - acc: 0.6682 - val_loss: 1.1534 - val_acc: 0.6585\n",
      "Epoch 2/20\n",
      "1013/1013 [==============================] - 194s 192ms/step - loss: 1.1288 - acc: 0.6726 - val_loss: 1.1441 - val_acc: 0.6585\n",
      "Epoch 3/20\n",
      "1013/1013 [==============================] - 196s 193ms/step - loss: 1.0657 - acc: 0.6685 - val_loss: 1.0120 - val_acc: 0.6585\n",
      "Epoch 4/20\n",
      "1013/1013 [==============================] - 196s 194ms/step - loss: 0.9828 - acc: 0.6707 - val_loss: 0.9789 - val_acc: 0.6585\n",
      "\n",
      "Epoch 00004: ReduceLROnPlateau reducing learning rate to 0.05000000074505806.\n",
      "Epoch 5/20\n",
      "1013/1013 [==============================] - 194s 191ms/step - loss: 0.9337 - acc: 0.6756 - val_loss: 0.9245 - val_acc: 0.6763\n",
      "Epoch 6/20\n",
      "1013/1013 [==============================] - 192s 190ms/step - loss: 0.9066 - acc: 0.6851 - val_loss: 0.8977 - val_acc: 0.6663\n",
      "Epoch 7/20\n",
      "1013/1013 [==============================] - 192s 190ms/step - loss: 0.9239 - acc: 0.6693 - val_loss: 0.8840 - val_acc: 0.6707\n",
      "Epoch 8/20\n",
      "1013/1013 [==============================] - 192s 190ms/step - loss: 0.8743 - acc: 0.6868 - val_loss: 0.8655 - val_acc: 0.6608\n",
      "\n",
      "Epoch 00008: ReduceLROnPlateau reducing learning rate to 0.02500000037252903.\n",
      "Epoch 9/20\n",
      "1013/1013 [==============================] - 195s 193ms/step - loss: 0.8611 - acc: 0.6863 - val_loss: 0.8532 - val_acc: 0.6785\n",
      "Epoch 10/20\n",
      "1013/1013 [==============================] - 197s 194ms/step - loss: 0.8552 - acc: 0.6902 - val_loss: 0.8391 - val_acc: 0.6763\n",
      "Epoch 11/20\n",
      "1013/1013 [==============================] - 196s 194ms/step - loss: 0.8408 - acc: 0.6916 - val_loss: 0.8422 - val_acc: 0.6818\n",
      "Epoch 12/20\n",
      "1013/1013 [==============================] - 196s 193ms/step - loss: 0.8421 - acc: 0.6927 - val_loss: 0.8410 - val_acc: 0.6774\n",
      "Epoch 13/20\n",
      "1013/1013 [==============================] - 191s 189ms/step - loss: 0.8354 - acc: 0.6896 - val_loss: 0.8264 - val_acc: 0.6652\n",
      "Epoch 14/20\n",
      "1013/1013 [==============================] - 189s 187ms/step - loss: 0.8102 - acc: 0.7006 - val_loss: 0.8201 - val_acc: 0.6829\n",
      "Epoch 16/20\n",
      "1013/1013 [==============================] - 191s 189ms/step - loss: 0.8239 - acc: 0.6920 - val_loss: 0.8168 - val_acc: 0.6763\n",
      "Epoch 17/20\n",
      "1013/1013 [==============================] - 195s 193ms/step - loss: 0.8080 - acc: 0.6973 - val_loss: 0.8048 - val_acc: 0.6796\n",
      "Epoch 20/20\n",
      "1013/1013 [==============================] - 191s 189ms/step - loss: 0.8041 - acc: 0.7046 - val_loss: 0.8094 - val_acc: 0.6696\n"
     ]
    }
   ],
   "source": [
    "cb = EarlyStopping(patience=5,verbose =1)\n",
    "#history = dense.fit(x_new_train,y_train, epochs = 100, batch_size =8, validation_split=0.1,callbacks=[cb,lrr],verbose = 1)\n",
    "batch_size=8\n",
    "history = vgg1.fit_generator(\n",
    "    datagen.flow(x_new_train,y_train, batch_size=8),\n",
    "    steps_per_epoch=x_train.shape[0] // batch_size,\n",
    "    epochs=20,\n",
    "    validation_data=(x_new_val,y_val),\n",
    "    validation_steps=x_new_val.shape[0] // batch_size\n",
    "    ,callbacks=[lrr]\n",
    ")"
   ]
  },
  {
   "cell_type": "code",
   "execution_count": 16,
   "metadata": {},
   "outputs": [
    {
     "name": "stdout",
     "output_type": "stream",
     "text": [
      "1002/1002 [==============================] - 7s 7ms/step\n",
      "[0.7851849673037044, 0.7105788425533119]\n"
     ]
    }
   ],
   "source": [
    "print(vgg1.evaluate(x_new_test,y_test))"
   ]
  },
  {
   "cell_type": "markdown",
   "metadata": {},
   "source": [
    "## Model Robustness Across MobileNet PGD Images ##"
   ]
  },
  {
   "cell_type": "code",
   "execution_count": 19,
   "metadata": {},
   "outputs": [],
   "source": [
    "with open('new_adversarial/adversarial_dense_train1', 'rb') as f:\n",
    "    k = pickle.load(f)\n",
    "with open('new_adversarial/adversarial_dense_train2', 'rb') as f:\n",
    "    l = pickle.load(f)\n",
    "with open('new_adversarial/adversarial_dense_train3', 'rb') as f:\n",
    "    m = pickle.load(f)\n",
    "with open('new_adversarial/adversarial_dense_train4', 'rb') as f:\n",
    "    n = pickle.load(f)\n",
    "\n",
    "with open('new_adversarial/adversarial_dense_test', 'rb') as f1:\n",
    "    x_adv_test = pickle.load(f1)\n",
    "\n",
    "with open('new_adversarial/adversarial_dense_trainY', 'rb') as f:\n",
    "    y_train_mob = pickle.load(f)\n",
    "with open('new_adversarial/adversarial_dense_testY', 'rb') as f:\n",
    "    y_test_mob = pickle.load(f)\n",
    "    \n",
    "k = np.array(k)\n",
    "l = np.array(l)\n",
    "m = np.array(m)\n",
    "n = np.array(n)\n",
    "x_adv_test = np.array(x_adv_test)\n",
    "y_train_mob = np.array(y_train_mob)\n",
    "y_test_mob = np.array(y_test_mob )"
   ]
  },
  {
   "cell_type": "code",
   "execution_count": 20,
   "metadata": {},
   "outputs": [],
   "source": [
    "k = k.reshape(2254,224,224,3)\n",
    "l = l.reshape(2253,224,224,3)\n",
    "m = m.reshape(2253,224,224,3)\n",
    "n = n.reshape(2253,224,224,3)\n",
    "\n",
    "x_adv_test_mob = x_adv_test.reshape(1002,224,224,3)\n",
    "\n",
    "y_adv_train_mob = y_train_mob.reshape(9013,7)\n",
    "y_adv_test_mob = y_test_mob.reshape(1002,7)"
   ]
  },
  {
   "cell_type": "code",
   "execution_count": 21,
   "metadata": {},
   "outputs": [
    {
     "name": "stdout",
     "output_type": "stream",
     "text": [
      "(2254, 224, 224, 3)\n",
      "(2253, 224, 224, 3)\n",
      "(2253, 224, 224, 3)\n",
      "(2253, 224, 224, 3)\n",
      "(1002, 224, 224, 3)\n",
      "(9013, 7)\n",
      "(1002, 7)\n"
     ]
    }
   ],
   "source": [
    "print(k.shape)\n",
    "print(l.shape)\n",
    "print(m.shape)\n",
    "print(n.shape)\n",
    "print(x_adv_test_mob.shape)\n",
    "print(y_adv_train_mob.shape)\n",
    "print(y_adv_test_mob.shape)"
   ]
  },
  {
   "cell_type": "code",
   "execution_count": 22,
   "metadata": {},
   "outputs": [],
   "source": [
    "x_adv_train_mob = np.concatenate((k,l,m,n),axis=0)"
   ]
  },
  {
   "cell_type": "code",
   "execution_count": 23,
   "metadata": {},
   "outputs": [
    {
     "name": "stdout",
     "output_type": "stream",
     "text": [
      "MobileNet Testing Score Before Adversarial Training\n",
      "1002/1002 [==============================] - 5s 5ms/step\n",
      "[2.42418676317333, 0.12774451100778675]\n"
     ]
    }
   ],
   "source": [
    "print(\"MobileNet Testing Score Before Adversarial Training\")\n",
    "print(vgg1.evaluate(x_adv_test_mob,y_adv_test_mob))"
   ]
  },
  {
   "cell_type": "markdown",
   "metadata": {},
   "source": [
    "## Model Robustness Against VGGNet PGD Adversarial Images ##"
   ]
  },
  {
   "cell_type": "code",
   "execution_count": 25,
   "metadata": {},
   "outputs": [],
   "source": [
    "with open('new_adversarial/adversarial_vgg_train1', 'rb') as f:\n",
    "    k = pickle.load(f)\n",
    "with open('new_adversarial/adversarial_vgg_train2', 'rb') as f:\n",
    "    l = pickle.load(f)\n",
    "with open('new_adversarial/adversarial_vgg_train3', 'rb') as f:\n",
    "    m = pickle.load(f)\n",
    "with open('new_adversarial/adversarial_vgg_train4', 'rb') as f:\n",
    "    n = pickle.load(f)\n",
    "\n",
    "with open('new_adversarial/adversarial_vgg_test', 'rb') as f1:\n",
    "    x_adv_test = pickle.load(f1)\n",
    "\n",
    "with open('new_adversarial/adversarial_vgg_trainY', 'rb') as f:\n",
    "    y_train_vgg = pickle.load(f)\n",
    "with open('new_adversarial/adversarial_vgg_testY', 'rb') as f:\n",
    "    y_test_vgg = pickle.load(f)\n",
    "    \n",
    "k = np.array(k)\n",
    "l = np.array(l)\n",
    "m = np.array(m)\n",
    "n = np.array(n)\n",
    "x_adv_test = np.array(x_adv_test)\n",
    "y_train_vgg = np.array(y_train_vgg)\n",
    "y_test_vgg = np.array(y_test_vgg )"
   ]
  },
  {
   "cell_type": "code",
   "execution_count": 26,
   "metadata": {},
   "outputs": [],
   "source": [
    "k = k.reshape(2254,224,224,3)\n",
    "l = l.reshape(2253,224,224,3)\n",
    "m = m.reshape(2253,224,224,3)\n",
    "n = n.reshape(2253,224,224,3)\n",
    "\n",
    "x_adv_test_vgg = x_adv_test.reshape(1002,224,224,3)\n",
    "\n",
    "y_adv_train_vgg = y_train_vgg.reshape(9013,7)\n",
    "y_adv_test_vgg = y_test_vgg.reshape(1002,7)"
   ]
  },
  {
   "cell_type": "code",
   "execution_count": 27,
   "metadata": {},
   "outputs": [
    {
     "name": "stdout",
     "output_type": "stream",
     "text": [
      "(2254, 224, 224, 3)\n",
      "(2253, 224, 224, 3)\n",
      "(2253, 224, 224, 3)\n",
      "(2253, 224, 224, 3)\n",
      "(1, 1002, 224, 224, 3)\n",
      "(9013, 7)\n",
      "(1002, 7)\n"
     ]
    }
   ],
   "source": [
    "print(k.shape)\n",
    "print(l.shape)\n",
    "print(m.shape)\n",
    "print(n.shape)\n",
    "print(x_adv_test.shape)\n",
    "print(y_train.shape)\n",
    "print(y_test.shape)"
   ]
  },
  {
   "cell_type": "code",
   "execution_count": 28,
   "metadata": {},
   "outputs": [],
   "source": [
    "x_adv_train_vgg = np.concatenate((k,l,m,n),axis=0)"
   ]
  },
  {
   "cell_type": "code",
   "execution_count": 29,
   "metadata": {},
   "outputs": [
    {
     "name": "stdout",
     "output_type": "stream",
     "text": [
      "MobileNet Testing Score Before Adversarial Training\n",
      "1002/1002 [==============================] - 5s 5ms/step\n",
      "[7.394426905466411, 0.08682634730538923]\n"
     ]
    }
   ],
   "source": [
    "print(\"MobileNet Testing Score Before Adversarial Training\")\n",
    "print(vgg1.evaluate(x_adv_test_vgg,y_adv_test_vgg))"
   ]
  },
  {
   "cell_type": "markdown",
   "metadata": {},
   "source": [
    "## Adversarial Training ##"
   ]
  },
  {
   "cell_type": "code",
   "execution_count": 31,
   "metadata": {},
   "outputs": [],
   "source": [
    "x_adv_train_whole= np.concatenate((x_new_train,x_adv_train_vgg),axis=0)\n",
    "y_adv_train_whole = np.concatenate((y_train,y_adv_train_vgg),axis=0)"
   ]
  },
  {
   "cell_type": "code",
   "execution_count": 32,
   "metadata": {},
   "outputs": [
    {
     "name": "stdout",
     "output_type": "stream",
     "text": [
      "(18026, 224, 224, 3)\n",
      "(18026, 7)\n"
     ]
    }
   ],
   "source": [
    "print(x_adv_train_whole.shape)\n",
    "print(y_adv_train_whole.shape)"
   ]
  },
  {
   "cell_type": "code",
   "execution_count": 33,
   "metadata": {},
   "outputs": [],
   "source": [
    "#dense = DenseNet121(weights=None,input_shape=(224,224,3), classes=7)\n",
    "vgg2 = VGG16(weights=None,input_shape=(224,224,3), classes=7)"
   ]
  },
  {
   "cell_type": "code",
   "execution_count": 34,
   "metadata": {},
   "outputs": [],
   "source": [
    "opt = SGD(lr=0.1,decay=0.002)\n",
    "vgg2.compile(optimizer=opt, loss='categorical_crossentropy', metrics=['accuracy'])\n",
    "lrr = ReduceLROnPlateau(monitor='val_acc', \n",
    "                        patience=3, \n",
    "                        verbose=1, \n",
    "                        factor=0.5, \n",
    "                        min_lr=0.0001)"
   ]
  },
  {
   "cell_type": "code",
   "execution_count": 35,
   "metadata": {},
   "outputs": [],
   "source": [
    "datagen = ImageDataGenerator(\n",
    "        featurewise_center=False,  # set input mean to 0 over the dataset\n",
    "        samplewise_center=False,  # set each sample mean to 0\n",
    "        featurewise_std_normalization=False,  # divide inputs by std of the dataset\n",
    "        samplewise_std_normalization=False,  # divide each input by its std\n",
    "        zca_whitening=False,  # apply ZCA whitening\n",
    "        rotation_range=10,  # randomly rotate images in the range (degrees, 0 to 180)\n",
    "        zoom_range = 0.1, # Randomly zoom image \n",
    "        width_shift_range=0.1,  # randomly shift images horizontally (fraction of total width)\n",
    "        height_shift_range=0.1,  # randomly shift images vertically (fraction of total height)\n",
    "        horizontal_flip=True,  # randomly flip images\n",
    "        vertical_flip=True)  # randomly flip images\n",
    "datagen.fit(x_adv_train_whole)"
   ]
  },
  {
   "cell_type": "code",
   "execution_count": 36,
   "metadata": {},
   "outputs": [
    {
     "name": "stdout",
     "output_type": "stream",
     "text": [
      "Epoch 1/20\n",
      "2253/2253 [==============================] - 428s 190ms/step - loss: 1.1413 - acc: 0.6690 - val_loss: 1.1501 - val_acc: 0.6585\n",
      "Epoch 2/20\n",
      "2253/2253 [==============================] - 429s 190ms/step - loss: 1.1302 - acc: 0.6694 - val_loss: 1.1128 - val_acc: 0.6585\n",
      "Epoch 3/20\n",
      "2253/2253 [==============================] - 427s 190ms/step - loss: 1.0434 - acc: 0.6692 - val_loss: 0.9793 - val_acc: 0.6585\n",
      "Epoch 4/20\n",
      "2253/2253 [==============================] - 427s 189ms/step - loss: 0.9839 - acc: 0.6687 - val_loss: 0.9546 - val_acc: 0.6585\n",
      "\n",
      "Epoch 00004: ReduceLROnPlateau reducing learning rate to 0.05000000074505806.\n",
      "Epoch 5/20\n",
      "2253/2253 [==============================] - 429s 190ms/step - loss: 0.9542 - acc: 0.6697 - val_loss: 0.9285 - val_acc: 0.6619\n",
      "Epoch 6/20\n",
      "2253/2253 [==============================] - 419s 186ms/step - loss: 0.9369 - acc: 0.6758 - val_loss: 0.9312 - val_acc: 0.6630\n",
      "Epoch 7/20\n",
      "2253/2253 [==============================] - 426s 189ms/step - loss: 0.9277 - acc: 0.6784 - val_loss: 0.9040 - val_acc: 0.6718\n",
      "Epoch 8/20\n",
      "2253/2253 [==============================] - 427s 189ms/step - loss: 0.9157 - acc: 0.6805 - val_loss: 0.8990 - val_acc: 0.6741\n",
      "Epoch 9/20\n",
      "2253/2253 [==============================] - 419s 186ms/step - loss: 0.9056 - acc: 0.6843 - val_loss: 0.9091 - val_acc: 0.6574\n",
      "Epoch 10/20\n",
      "2253/2253 [==============================] - 424s 188ms/step - loss: 0.8993 - acc: 0.6881 - val_loss: 0.8990 - val_acc: 0.6707\n",
      "Epoch 11/20\n",
      "2253/2253 [==============================] - 419s 186ms/step - loss: 0.8909 - acc: 0.6894 - val_loss: 0.8870 - val_acc: 0.6663\n",
      "\n",
      "Epoch 00011: ReduceLROnPlateau reducing learning rate to 0.02500000037252903.\n",
      "Epoch 12/20\n",
      "2253/2253 [==============================] - 422s 187ms/step - loss: 0.8752 - acc: 0.6962 - val_loss: 0.8703 - val_acc: 0.6741\n",
      "Epoch 13/20\n",
      "2253/2253 [==============================] - 428s 190ms/step - loss: 0.8717 - acc: 0.6972 - val_loss: 0.8729 - val_acc: 0.6829\n",
      "Epoch 14/20\n",
      "2253/2253 [==============================] - 420s 186ms/step - loss: 0.8683 - acc: 0.6973 - val_loss: 0.8656 - val_acc: 0.6807\n",
      "Epoch 15/20\n",
      "2253/2253 [==============================] - 420s 187ms/step - loss: 0.8641 - acc: 0.6992 - val_loss: 0.8727 - val_acc: 0.6752\n",
      "Epoch 16/20\n",
      "2253/2253 [==============================] - 427s 189ms/step - loss: 0.8596 - acc: 0.7000 - val_loss: 0.8726 - val_acc: 0.6729\n",
      "\n",
      "Epoch 00016: ReduceLROnPlateau reducing learning rate to 0.012500000186264515.\n",
      "Epoch 17/20\n",
      "2253/2253 [==============================] - 419s 186ms/step - loss: 0.8526 - acc: 0.7035 - val_loss: 0.8548 - val_acc: 0.6851\n",
      "Epoch 18/20\n",
      "2253/2253 [==============================] - 424s 188ms/step - loss: 0.8502 - acc: 0.7034 - val_loss: 0.8486 - val_acc: 0.6829\n",
      "Epoch 19/20\n",
      "2253/2253 [==============================] - 420s 187ms/step - loss: 0.8458 - acc: 0.7036 - val_loss: 0.8418 - val_acc: 0.6907\n",
      "Epoch 20/20\n",
      "2253/2253 [==============================] - 419s 186ms/step - loss: 0.8490 - acc: 0.7047 - val_loss: 0.8486 - val_acc: 0.6874\n"
     ]
    }
   ],
   "source": [
    "cb = EarlyStopping(patience=5,verbose =1)\n",
    "batch_size=8\n",
    "history = vgg2.fit_generator(\n",
    "    datagen.flow(x_adv_train_whole,y_adv_train_whole, batch_size=8),\n",
    "    steps_per_epoch=x_adv_train_whole.shape[0] // batch_size,\n",
    "    epochs=20,\n",
    "    validation_data=(x_new_val,y_val),\n",
    "    validation_steps=x_new_val.shape[0] // batch_size\n",
    "    ,callbacks=[lrr]\n",
    ")"
   ]
  },
  {
   "cell_type": "code",
   "execution_count": 37,
   "metadata": {},
   "outputs": [
    {
     "name": "stdout",
     "output_type": "stream",
     "text": [
      "1002/1002 [==============================] - 6s 6ms/step\n",
      "[0.8018167934969752, 0.7045908186012162]\n"
     ]
    }
   ],
   "source": [
    "print(vgg2.evaluate(x_new_test,y_test))"
   ]
  },
  {
   "cell_type": "markdown",
   "metadata": {},
   "source": [
    "## Model Robustness After Training Across MobileNet PGD Images ##"
   ]
  },
  {
   "cell_type": "code",
   "execution_count": 38,
   "metadata": {},
   "outputs": [
    {
     "name": "stdout",
     "output_type": "stream",
     "text": [
      "MobileNet Testing Score Before Adversarial Training\n",
      "1002/1002 [==============================] - 5s 5ms/step\n",
      "[0.9749591038850491, 0.6906187627129926]\n"
     ]
    }
   ],
   "source": [
    "print(\"MobileNet Testing Score Before Adversarial Training\")\n",
    "print(vgg2.evaluate(x_adv_test_mob,y_adv_test_mob))"
   ]
  },
  {
   "cell_type": "markdown",
   "metadata": {},
   "source": [
    "## Model Robustness After Training Across  VGG PGD Images ##"
   ]
  },
  {
   "cell_type": "code",
   "execution_count": 40,
   "metadata": {},
   "outputs": [
    {
     "name": "stdout",
     "output_type": "stream",
     "text": [
      "MobileNet Testing Score Before Adversarial Training\n",
      "1002/1002 [==============================] - 5s 5ms/step\n",
      "[0.8492311905482096, 0.7105788425533119]\n"
     ]
    }
   ],
   "source": [
    "print(\"MobileNet Testing Score Before Adversarial Training\")\n",
    "print(vgg2.evaluate(x_adv_test_vgg,y_adv_test_vgg))"
   ]
  },
  {
   "cell_type": "markdown",
   "metadata": {},
   "source": [
    "## FGSM Results ##"
   ]
  },
  {
   "cell_type": "code",
   "execution_count": 42,
   "metadata": {},
   "outputs": [],
   "source": [
    "from art.attacks import FastGradientMethod"
   ]
  },
  {
   "cell_type": "code",
   "execution_count": 43,
   "metadata": {},
   "outputs": [],
   "source": [
    "min_pixel_value = 0.0\n",
    "max_pixel_value = 1.0\n",
    "classifier_1 = KerasClassifier(model= vgg1, clip_values=(min_pixel_value, max_pixel_value), use_logits=False)"
   ]
  },
  {
   "cell_type": "code",
   "execution_count": 44,
   "metadata": {},
   "outputs": [],
   "source": [
    "eps=0.3\n",
    "attack_FGSM = FastGradientMethod(classifier=classifier_1)\n",
    "x_adv_test_FGSM = attack_FGSM.generate(x=x_new_test)"
   ]
  },
  {
   "cell_type": "code",
   "execution_count": 46,
   "metadata": {},
   "outputs": [
    {
     "name": "stdout",
     "output_type": "stream",
     "text": [
      "1002/1002 [==============================] - 5s 5ms/step\n",
      "[9.451903059572993, 0.09880239520958084]\n"
     ]
    }
   ],
   "source": [
    "print(vgg1.evaluate(x_adv_test_FGSM,y_test))"
   ]
  }
 ],
 "metadata": {
  "kernelspec": {
   "display_name": "Python [conda env:tf_1.4]",
   "language": "python",
   "name": "conda-env-tf_1.4-py"
  },
  "language_info": {
   "codemirror_mode": {
    "name": "ipython",
    "version": 3
   },
   "file_extension": ".py",
   "mimetype": "text/x-python",
   "name": "python",
   "nbconvert_exporter": "python",
   "pygments_lexer": "ipython3",
   "version": "3.6.9"
  }
 },
 "nbformat": 4,
 "nbformat_minor": 4
}
