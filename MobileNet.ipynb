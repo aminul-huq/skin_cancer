{
 "cells": [
  {
   "cell_type": "code",
   "execution_count": 1,
   "metadata": {
    "collapsed": true,
    "jupyter": {
     "outputs_hidden": true
    }
   },
   "outputs": [
    {
     "name": "stderr",
     "output_type": "stream",
     "text": [
      "/data/aminul/anaconda3/envs/tf_1.4/lib/python3.6/site-packages/tensorflow/python/framework/dtypes.py:469: FutureWarning: Passing (type, 1) or '1type' as a synonym of type is deprecated; in a future version of numpy, it will be understood as (type, (1,)) / '(1,)type'.\n",
      "  _np_qint8 = np.dtype([(\"qint8\", np.int8, 1)])\n",
      "/data/aminul/anaconda3/envs/tf_1.4/lib/python3.6/site-packages/tensorflow/python/framework/dtypes.py:470: FutureWarning: Passing (type, 1) or '1type' as a synonym of type is deprecated; in a future version of numpy, it will be understood as (type, (1,)) / '(1,)type'.\n",
      "  _np_quint8 = np.dtype([(\"quint8\", np.uint8, 1)])\n",
      "/data/aminul/anaconda3/envs/tf_1.4/lib/python3.6/site-packages/tensorflow/python/framework/dtypes.py:471: FutureWarning: Passing (type, 1) or '1type' as a synonym of type is deprecated; in a future version of numpy, it will be understood as (type, (1,)) / '(1,)type'.\n",
      "  _np_qint16 = np.dtype([(\"qint16\", np.int16, 1)])\n",
      "/data/aminul/anaconda3/envs/tf_1.4/lib/python3.6/site-packages/tensorflow/python/framework/dtypes.py:472: FutureWarning: Passing (type, 1) or '1type' as a synonym of type is deprecated; in a future version of numpy, it will be understood as (type, (1,)) / '(1,)type'.\n",
      "  _np_quint16 = np.dtype([(\"quint16\", np.uint16, 1)])\n",
      "/data/aminul/anaconda3/envs/tf_1.4/lib/python3.6/site-packages/tensorflow/python/framework/dtypes.py:473: FutureWarning: Passing (type, 1) or '1type' as a synonym of type is deprecated; in a future version of numpy, it will be understood as (type, (1,)) / '(1,)type'.\n",
      "  _np_qint32 = np.dtype([(\"qint32\", np.int32, 1)])\n",
      "/data/aminul/anaconda3/envs/tf_1.4/lib/python3.6/site-packages/tensorflow/python/framework/dtypes.py:476: FutureWarning: Passing (type, 1) or '1type' as a synonym of type is deprecated; in a future version of numpy, it will be understood as (type, (1,)) / '(1,)type'.\n",
      "  np_resource = np.dtype([(\"resource\", np.ubyte, 1)])\n",
      "/data/aminul/anaconda3/envs/tf_1.4/lib/python3.6/importlib/_bootstrap.py:219: RuntimeWarning: compiletime version 3.5 of module 'tensorflow.python.framework.fast_tensor_util' does not match runtime version 3.6\n",
      "  return f(*args, **kwds)\n",
      "Using TensorFlow backend.\n"
     ]
    }
   ],
   "source": [
    "import pickle \n",
    "import cv2\n",
    "import numpy as np\n",
    "import random\n",
    "import matplotlib.pyplot as plt\n",
    "%matplotlib inline\n",
    "\n",
    "import tensorflow as tf\n",
    "from tensorflow import keras\n",
    "from keras.models import *\n",
    "from keras.layers import *\n",
    "from keras.optimizers import *\n",
    "from keras.callbacks import *\n",
    "from keras.utils import np_utils\n",
    "from keras.initializers import *\n",
    "from keras.preprocessing.image import ImageDataGenerator\n",
    "from keras.applications.vgg16 import VGG16\n",
    "from keras.applications.vgg16 import preprocess_input, decode_predictions\n",
    "from keras.applications.mobilenet import MobileNet\n",
    "\n",
    "from sklearn.model_selection import train_test_split\n",
    "from sklearn.metrics import accuracy_score\n",
    "\n",
    "from art.attacks import FastGradientMethod\n",
    "from art.attacks import ProjectedGradientDescent\n",
    "from art.classifiers import KerasClassifier"
   ]
  },
  {
   "cell_type": "code",
   "execution_count": 2,
   "metadata": {},
   "outputs": [],
   "source": [
    "with open('skin-cancer-dataset', 'rb') as f:\n",
    "    x_train,x_test,x_val = pickle.load(f)"
   ]
  },
  {
   "cell_type": "code",
   "execution_count": 3,
   "metadata": {},
   "outputs": [
    {
     "name": "stdout",
     "output_type": "stream",
     "text": [
      "(8111, 100, 75, 3)\n",
      "(1002, 100, 75, 3)\n",
      "(902, 100, 75, 3)\n"
     ]
    }
   ],
   "source": [
    "print(x_train.shape)\n",
    "print(x_test.shape)\n",
    "print(x_val.shape)"
   ]
  },
  {
   "cell_type": "code",
   "execution_count": 4,
   "metadata": {},
   "outputs": [],
   "source": [
    "with open('skin-cancer-dataset-label', 'rb') as f:\n",
    "    y_train,y_test,y_val = pickle.load(f)"
   ]
  },
  {
   "cell_type": "code",
   "execution_count": 5,
   "metadata": {},
   "outputs": [
    {
     "name": "stdout",
     "output_type": "stream",
     "text": [
      "(8111, 7)\n",
      "(1002, 7)\n",
      "(902, 7)\n"
     ]
    }
   ],
   "source": [
    "print(y_train.shape)\n",
    "print(y_test.shape)\n",
    "print(y_val.shape)"
   ]
  },
  {
   "cell_type": "code",
   "execution_count": 6,
   "metadata": {},
   "outputs": [],
   "source": [
    "import cv2\n",
    "dim=(224,224)\n",
    "x_new_train=[]\n",
    "x_new_test=[]\n",
    "x_new_val=[]"
   ]
  },
  {
   "cell_type": "code",
   "execution_count": 7,
   "metadata": {},
   "outputs": [],
   "source": [
    "for i in range(8111):\n",
    "    resized = cv2.resize(x_train[i], dim, interpolation = cv2.INTER_AREA)\n",
    "    x_new_train.append(resized)\n",
    "    \n",
    "for i in range(1002):\n",
    "    resized = cv2.resize(x_test[i], dim, interpolation = cv2.INTER_AREA)\n",
    "    x_new_test.append(resized)\n",
    "    \n",
    "for i in range(902):\n",
    "    resized = cv2.resize(x_val[i], dim, interpolation = cv2.INTER_AREA)\n",
    "    x_new_val.append(resized)"
   ]
  },
  {
   "cell_type": "code",
   "execution_count": 8,
   "metadata": {},
   "outputs": [],
   "source": [
    "x_new_train = np.array(x_new_train)\n",
    "x_new_test = np.array(x_new_test)\n",
    "x_new_val = np.array(x_new_val)"
   ]
  },
  {
   "cell_type": "code",
   "execution_count": 9,
   "metadata": {},
   "outputs": [],
   "source": [
    "x_new_train = np.concatenate((x_new_train,x_new_val),axis=0)\n",
    "y_train = np.concatenate((y_train,y_val),axis=0)"
   ]
  },
  {
   "cell_type": "code",
   "execution_count": 10,
   "metadata": {},
   "outputs": [
    {
     "name": "stdout",
     "output_type": "stream",
     "text": [
      "(9013, 224, 224, 3)\n",
      "(1002, 224, 224, 3)\n"
     ]
    }
   ],
   "source": [
    "print(x_new_train.shape)\n",
    "print(x_new_test.shape)"
   ]
  },
  {
   "cell_type": "code",
   "execution_count": 12,
   "metadata": {},
   "outputs": [],
   "source": [
    "mob1 = MobileNet(weights=None,input_shape=(224,224,3), classes=7)"
   ]
  },
  {
   "cell_type": "code",
   "execution_count": 13,
   "metadata": {},
   "outputs": [],
   "source": [
    "opt = SGD(lr=0.1,decay=0.002)\n",
    "mob1.compile(optimizer=opt, loss='categorical_crossentropy', metrics=['accuracy'])\n",
    "lrr = ReduceLROnPlateau(monitor='val_acc', \n",
    "                        patience=3, \n",
    "                        verbose=1, \n",
    "                        factor=0.5, \n",
    "                        min_lr=0.0001)"
   ]
  },
  {
   "cell_type": "code",
   "execution_count": 14,
   "metadata": {},
   "outputs": [],
   "source": [
    "datagen = ImageDataGenerator(\n",
    "        featurewise_center=False,  # set input mean to 0 over the dataset\n",
    "        samplewise_center=False,  # set each sample mean to 0\n",
    "        featurewise_std_normalization=False,  # divide inputs by std of the dataset\n",
    "        samplewise_std_normalization=False,  # divide each input by its std\n",
    "        zca_whitening=False,  # apply ZCA whitening\n",
    "        rotation_range=10,  # randomly rotate images in the range (degrees, 0 to 180)\n",
    "        zoom_range = 0.1, # Randomly zoom image \n",
    "        width_shift_range=0.1,  # randomly shift images horizontally (fraction of total width)\n",
    "        height_shift_range=0.1,  # randomly shift images vertically (fraction of total height)\n",
    "        horizontal_flip=True,  # randomly flip images\n",
    "        vertical_flip=True)  # randomly flip images\n",
    "datagen.fit(x_new_train)"
   ]
  },
  {
   "cell_type": "code",
   "execution_count": 15,
   "metadata": {},
   "outputs": [
    {
     "name": "stdout",
     "output_type": "stream",
     "text": [
      "Epoch 1/20\n",
      "1013/1013 [==============================] - 102s 100ms/step - loss: 1.0636 - acc: 0.6579 - val_loss: 0.9038 - val_acc: 0.6718\n",
      "Epoch 2/20\n",
      "1013/1013 [==============================] - 94s 93ms/step - loss: 0.8770 - acc: 0.6840 - val_loss: 0.8307 - val_acc: 0.6840\n",
      "Epoch 3/20\n",
      "1013/1013 [==============================] - 96s 94ms/step - loss: 0.8149 - acc: 0.7012 - val_loss: 0.7845 - val_acc: 0.6874\n",
      "Epoch 4/20\n",
      "1013/1013 [==============================] - 96s 94ms/step - loss: 0.8004 - acc: 0.7089 - val_loss: 1.0118 - val_acc: 0.6685\n",
      "Epoch 5/20\n",
      "1013/1013 [==============================] - 101s 100ms/step - loss: 0.7694 - acc: 0.7175 - val_loss: 0.7392 - val_acc: 0.6984\n",
      "Epoch 6/20\n",
      "1013/1013 [==============================] - 100s 99ms/step - loss: 0.7469 - acc: 0.7294 - val_loss: 0.7812 - val_acc: 0.7051\n",
      "Epoch 7/20\n",
      "1013/1013 [==============================] - 98s 97ms/step - loss: 0.7270 - acc: 0.7295 - val_loss: 0.7126 - val_acc: 0.7395\n",
      "Epoch 8/20\n",
      "1013/1013 [==============================] - 99s 98ms/step - loss: 0.7135 - acc: 0.7445 - val_loss: 0.6988 - val_acc: 0.7284\n",
      "Epoch 9/20\n",
      "1013/1013 [==============================] - 99s 98ms/step - loss: 0.7328 - acc: 0.7328 - val_loss: 0.6904 - val_acc: 0.7228\n",
      "Epoch 10/20\n",
      "1013/1013 [==============================] - 100s 99ms/step - loss: 0.7116 - acc: 0.7368 - val_loss: 0.6817 - val_acc: 0.7339\n",
      "\n",
      "Epoch 00010: ReduceLROnPlateau reducing learning rate to 0.05000000074505806.\n",
      "Epoch 11/20\n",
      "1013/1013 [==============================] - 100s 99ms/step - loss: 0.6953 - acc: 0.7461 - val_loss: 0.6724 - val_acc: 0.7461\n",
      "Epoch 12/20\n",
      "1013/1013 [==============================] - 98s 97ms/step - loss: 0.7068 - acc: 0.7465 - val_loss: 0.6644 - val_acc: 0.7417\n",
      "Epoch 13/20\n",
      "1013/1013 [==============================] - 99s 98ms/step - loss: 0.6852 - acc: 0.7517 - val_loss: 0.6579 - val_acc: 0.7561\n",
      "Epoch 14/20\n",
      "1013/1013 [==============================] - 99s 98ms/step - loss: 0.6637 - acc: 0.7560 - val_loss: 0.6678 - val_acc: 0.7450\n",
      "Epoch 15/20\n",
      "1013/1013 [==============================] - 99s 98ms/step - loss: 0.6757 - acc: 0.7506 - val_loss: 0.6555 - val_acc: 0.7450\n",
      "Epoch 16/20\n",
      "1013/1013 [==============================] - 98s 97ms/step - loss: 0.6672 - acc: 0.7579 - val_loss: 0.6798 - val_acc: 0.7417\n",
      "\n",
      "Epoch 00016: ReduceLROnPlateau reducing learning rate to 0.02500000037252903.\n",
      "Epoch 17/20\n",
      "1013/1013 [==============================] - 99s 98ms/step - loss: 0.6724 - acc: 0.7538 - val_loss: 0.6477 - val_acc: 0.7528\n",
      "Epoch 18/20\n",
      "1013/1013 [==============================] - 98s 97ms/step - loss: 0.6565 - acc: 0.7628 - val_loss: 0.6474 - val_acc: 0.7539\n",
      "Epoch 19/20\n",
      "1013/1013 [==============================] - 98s 96ms/step - loss: 0.6668 - acc: 0.7554 - val_loss: 0.6516 - val_acc: 0.7483\n",
      "\n",
      "Epoch 00019: ReduceLROnPlateau reducing learning rate to 0.012500000186264515.\n",
      "Epoch 20/20\n",
      "1013/1013 [==============================] - 96s 95ms/step - loss: 0.6540 - acc: 0.7634 - val_loss: 0.6447 - val_acc: 0.7550\n"
     ]
    }
   ],
   "source": [
    "cb = EarlyStopping(patience=5,verbose =1)\n",
    "batch_size=8\n",
    "history = mob1.fit_generator(\n",
    "    datagen.flow(x_new_train,y_train, batch_size=8),\n",
    "    steps_per_epoch=x_train.shape[0] // batch_size,\n",
    "    epochs=20,\n",
    "    validation_data=(x_new_val,y_val),\n",
    "    validation_steps=x_new_val.shape[0] // batch_size\n",
    "    ,callbacks=[lrr]\n",
    ")"
   ]
  },
  {
   "cell_type": "code",
   "execution_count": 16,
   "metadata": {},
   "outputs": [
    {
     "name": "stdout",
     "output_type": "stream",
     "text": [
      "1002/1002 [==============================] - 4s 4ms/step\n",
      "[0.6448952800737408, 0.772455089701388]\n"
     ]
    }
   ],
   "source": [
    "print(mob1.evaluate(x_new_test,y_test))"
   ]
  },
  {
   "cell_type": "markdown",
   "metadata": {},
   "source": [
    "## Model Robustness Across MobileNet PGD Images ##"
   ]
  },
  {
   "cell_type": "code",
   "execution_count": 19,
   "metadata": {},
   "outputs": [],
   "source": [
    "with open('new_adversarial/adversarial_dense_train1', 'rb') as f:\n",
    "    k = pickle.load(f)\n",
    "with open('new_adversarial/adversarial_dense_train2', 'rb') as f:\n",
    "    l = pickle.load(f)\n",
    "with open('new_adversarial/adversarial_dense_train3', 'rb') as f:\n",
    "    m = pickle.load(f)\n",
    "with open('new_adversarial/adversarial_dense_train4', 'rb') as f:\n",
    "    n = pickle.load(f)\n",
    "\n",
    "with open('new_adversarial/adversarial_dense_test', 'rb') as f1:\n",
    "    x_adv_test = pickle.load(f1)\n",
    "\n",
    "with open('new_adversarial/adversarial_dense_trainY', 'rb') as f:\n",
    "    y_train_mob = pickle.load(f)\n",
    "with open('new_adversarial/adversarial_dense_testY', 'rb') as f:\n",
    "    y_test_mob = pickle.load(f)\n",
    "    \n",
    "k = np.array(k)\n",
    "l = np.array(l)\n",
    "m = np.array(m)\n",
    "n = np.array(n)\n",
    "x_adv_test = np.array(x_adv_test)\n",
    "y_train_mob = np.array(y_train_mob)\n",
    "y_test_mob = np.array(y_test_mob )"
   ]
  },
  {
   "cell_type": "code",
   "execution_count": 20,
   "metadata": {},
   "outputs": [],
   "source": [
    "k = k.reshape(2254,224,224,3)\n",
    "l = l.reshape(2253,224,224,3)\n",
    "m = m.reshape(2253,224,224,3)\n",
    "n = n.reshape(2253,224,224,3)\n",
    "\n",
    "x_adv_test_mob = x_adv_test.reshape(1002,224,224,3)\n",
    "\n",
    "y_adv_train_mob = y_train_mob.reshape(9013,7)\n",
    "y_adv_test_mob = y_test_mob.reshape(1002,7)"
   ]
  },
  {
   "cell_type": "code",
   "execution_count": 21,
   "metadata": {},
   "outputs": [
    {
     "name": "stdout",
     "output_type": "stream",
     "text": [
      "(2254, 224, 224, 3)\n",
      "(2253, 224, 224, 3)\n",
      "(2253, 224, 224, 3)\n",
      "(2253, 224, 224, 3)\n",
      "(1002, 224, 224, 3)\n",
      "(9013, 7)\n",
      "(1002, 7)\n"
     ]
    }
   ],
   "source": [
    "print(k.shape)\n",
    "print(l.shape)\n",
    "print(m.shape)\n",
    "print(n.shape)\n",
    "print(x_adv_test_mob.shape)\n",
    "print(y_adv_train_mob.shape)\n",
    "print(y_adv_test_mob.shape)"
   ]
  },
  {
   "cell_type": "code",
   "execution_count": 22,
   "metadata": {},
   "outputs": [],
   "source": [
    "x_adv_train_mob = np.concatenate((k,l,m,n),axis=0)"
   ]
  },
  {
   "cell_type": "code",
   "execution_count": 23,
   "metadata": {},
   "outputs": [
    {
     "name": "stdout",
     "output_type": "stream",
     "text": [
      "MobileNet Testing Score Before Adversarial Training\n",
      "1002/1002 [==============================] - 2s 2ms/step\n",
      "[11.068111703305425, 0.028942115783334492]\n"
     ]
    }
   ],
   "source": [
    "print(\"MobileNet Testing Score Before Adversarial Training\")\n",
    "print(mob1.evaluate(x_adv_test_mob,y_adv_test_mob))"
   ]
  },
  {
   "cell_type": "markdown",
   "metadata": {},
   "source": [
    "## Model Robustness Against VGGNet PGD Adversarial Images ##"
   ]
  },
  {
   "cell_type": "code",
   "execution_count": 25,
   "metadata": {},
   "outputs": [],
   "source": [
    "with open('new_adversarial/adversarial_vgg_train1', 'rb') as f:\n",
    "    k = pickle.load(f)\n",
    "with open('new_adversarial/adversarial_vgg_train2', 'rb') as f:\n",
    "    l = pickle.load(f)\n",
    "with open('new_adversarial/adversarial_vgg_train3', 'rb') as f:\n",
    "    m = pickle.load(f)\n",
    "with open('new_adversarial/adversarial_vgg_train4', 'rb') as f:\n",
    "    n = pickle.load(f)\n",
    "\n",
    "with open('new_adversarial/adversarial_vgg_test', 'rb') as f1:\n",
    "    x_adv_test = pickle.load(f1)\n",
    "\n",
    "with open('new_adversarial/adversarial_vgg_trainY', 'rb') as f:\n",
    "    y_train_vgg = pickle.load(f)\n",
    "with open('new_adversarial/adversarial_vgg_testY', 'rb') as f:\n",
    "    y_test_vgg = pickle.load(f)\n",
    "    \n",
    "k = np.array(k)\n",
    "l = np.array(l)\n",
    "m = np.array(m)\n",
    "n = np.array(n)\n",
    "x_adv_test = np.array(x_adv_test)\n",
    "y_train_vgg = np.array(y_train_vgg)\n",
    "y_test_vgg = np.array(y_test_vgg )"
   ]
  },
  {
   "cell_type": "code",
   "execution_count": 26,
   "metadata": {},
   "outputs": [],
   "source": [
    "k = k.reshape(2254,224,224,3)\n",
    "l = l.reshape(2253,224,224,3)\n",
    "m = m.reshape(2253,224,224,3)\n",
    "n = n.reshape(2253,224,224,3)\n",
    "\n",
    "x_adv_test_vgg = x_adv_test.reshape(1002,224,224,3)\n",
    "\n",
    "y_adv_train_vgg = y_train_vgg.reshape(9013,7)\n",
    "y_adv_test_vgg = y_test_vgg.reshape(1002,7)"
   ]
  },
  {
   "cell_type": "code",
   "execution_count": 27,
   "metadata": {},
   "outputs": [
    {
     "name": "stdout",
     "output_type": "stream",
     "text": [
      "(2254, 224, 224, 3)\n",
      "(2253, 224, 224, 3)\n",
      "(2253, 224, 224, 3)\n",
      "(2253, 224, 224, 3)\n",
      "(1, 1002, 224, 224, 3)\n",
      "(9013, 7)\n",
      "(1002, 7)\n"
     ]
    }
   ],
   "source": [
    "print(k.shape)\n",
    "print(l.shape)\n",
    "print(m.shape)\n",
    "print(n.shape)\n",
    "print(x_adv_test.shape)\n",
    "print(y_train.shape)\n",
    "print(y_test.shape)"
   ]
  },
  {
   "cell_type": "code",
   "execution_count": 28,
   "metadata": {},
   "outputs": [],
   "source": [
    "x_adv_train_vgg = np.concatenate((k,l,m,n),axis=0)"
   ]
  },
  {
   "cell_type": "code",
   "execution_count": 29,
   "metadata": {},
   "outputs": [
    {
     "name": "stdout",
     "output_type": "stream",
     "text": [
      "MobileNet Testing Score Before Adversarial Training\n",
      "1002/1002 [==============================] - 2s 2ms/step\n",
      "[6.469197483595736, 0.06087824352784547]\n"
     ]
    }
   ],
   "source": [
    "print(\"MobileNet Testing Score Before Adversarial Training\")\n",
    "print(mob1.evaluate(x_adv_test_vgg,y_adv_test_vgg))"
   ]
  },
  {
   "cell_type": "markdown",
   "metadata": {},
   "source": [
    "## Adversarial Training ##"
   ]
  },
  {
   "cell_type": "code",
   "execution_count": 31,
   "metadata": {},
   "outputs": [],
   "source": [
    "x_adv_train_whole= np.concatenate((x_new_train,x_adv_train_mob),axis=0)\n",
    "y_adv_train_whole = np.concatenate((y_train,y_adv_train_mob),axis=0)"
   ]
  },
  {
   "cell_type": "code",
   "execution_count": 32,
   "metadata": {},
   "outputs": [
    {
     "name": "stdout",
     "output_type": "stream",
     "text": [
      "(18026, 224, 224, 3)\n",
      "(18026, 7)\n"
     ]
    }
   ],
   "source": [
    "print(x_adv_train_whole.shape)\n",
    "print(y_adv_train_whole.shape)"
   ]
  },
  {
   "cell_type": "code",
   "execution_count": 33,
   "metadata": {},
   "outputs": [],
   "source": [
    "mob2 = MobileNet(weights=None,input_shape=(224,224,3), classes=7)"
   ]
  },
  {
   "cell_type": "code",
   "execution_count": 34,
   "metadata": {},
   "outputs": [],
   "source": [
    "opt = SGD(lr=0.1,decay=0.002)\n",
    "mob2.compile(optimizer=opt, loss='categorical_crossentropy', metrics=['accuracy'])\n",
    "lrr = ReduceLROnPlateau(monitor='val_acc', \n",
    "                        patience=3, \n",
    "                        verbose=1, \n",
    "                        factor=0.5, \n",
    "                        min_lr=0.0001)"
   ]
  },
  {
   "cell_type": "code",
   "execution_count": 35,
   "metadata": {},
   "outputs": [],
   "source": [
    "datagen = ImageDataGenerator(\n",
    "        featurewise_center=False,  # set input mean to 0 over the dataset\n",
    "        samplewise_center=False,  # set each sample mean to 0\n",
    "        featurewise_std_normalization=False,  # divide inputs by std of the dataset\n",
    "        samplewise_std_normalization=False,  # divide each input by its std\n",
    "        zca_whitening=False,  # apply ZCA whitening\n",
    "        rotation_range=10,  # randomly rotate images in the range (degrees, 0 to 180)\n",
    "        zoom_range = 0.1, # Randomly zoom image \n",
    "        width_shift_range=0.1,  # randomly shift images horizontally (fraction of total width)\n",
    "        height_shift_range=0.1,  # randomly shift images vertically (fraction of total height)\n",
    "        horizontal_flip=True,  # randomly flip images\n",
    "        vertical_flip=True)  # randomly flip images\n",
    "datagen.fit(x_adv_train_whole)"
   ]
  },
  {
   "cell_type": "code",
   "execution_count": 36,
   "metadata": {},
   "outputs": [
    {
     "name": "stdout",
     "output_type": "stream",
     "text": [
      "Epoch 1/20\n",
      "2253/2253 [==============================] - 220s 97ms/step - loss: 1.0417 - acc: 0.6634 - val_loss: 0.8613 - val_acc: 0.6752\n",
      "Epoch 2/20\n",
      "2253/2253 [==============================] - 214s 95ms/step - loss: 0.8897 - acc: 0.6889 - val_loss: 0.7720 - val_acc: 0.6984\n",
      "Epoch 3/20\n",
      "2253/2253 [==============================] - 217s 96ms/step - loss: 0.8565 - acc: 0.6951 - val_loss: 0.7727 - val_acc: 0.7051\n",
      "Epoch 4/20\n",
      "2253/2253 [==============================] - 211s 94ms/step - loss: 0.8357 - acc: 0.7046 - val_loss: 0.7555 - val_acc: 0.7051\n",
      "Epoch 5/20\n",
      "2253/2253 [==============================] - 215s 95ms/step - loss: 0.8311 - acc: 0.7077 - val_loss: 0.7563 - val_acc: 0.7118\n",
      "Epoch 6/20\n",
      "2253/2253 [==============================] - 216s 96ms/step - loss: 0.8148 - acc: 0.7111 - val_loss: 0.7293 - val_acc: 0.7217\n",
      "Epoch 7/20\n",
      "2253/2253 [==============================] - 217s 96ms/step - loss: 0.8076 - acc: 0.7113 - val_loss: 0.7365 - val_acc: 0.7084\n",
      "Epoch 8/20\n",
      "2253/2253 [==============================] - 211s 94ms/step - loss: 0.8009 - acc: 0.7159 - val_loss: 0.7182 - val_acc: 0.7295\n",
      "Epoch 9/20\n",
      "2253/2253 [==============================] - 207s 92ms/step - loss: 0.7985 - acc: 0.7135 - val_loss: 0.7281 - val_acc: 0.7140\n",
      "Epoch 10/20\n",
      "2253/2253 [==============================] - 207s 92ms/step - loss: 0.7868 - acc: 0.7194 - val_loss: 0.7492 - val_acc: 0.7306\n",
      "Epoch 11/20\n",
      "2253/2253 [==============================] - 207s 92ms/step - loss: 0.7777 - acc: 0.7198 - val_loss: 0.7226 - val_acc: 0.7151\n",
      "Epoch 12/20\n",
      "2253/2253 [==============================] - 208s 92ms/step - loss: 0.7734 - acc: 0.7242 - val_loss: 0.6902 - val_acc: 0.7406\n",
      "Epoch 13/20\n",
      "2253/2253 [==============================] - 209s 93ms/step - loss: 0.7689 - acc: 0.7251 - val_loss: 0.6913 - val_acc: 0.7339\n",
      "Epoch 14/20\n",
      "2253/2253 [==============================] - 209s 93ms/step - loss: 0.7601 - acc: 0.7241 - val_loss: 0.6906 - val_acc: 0.7373\n",
      "Epoch 15/20\n",
      "2253/2253 [==============================] - 206s 91ms/step - loss: 0.7549 - acc: 0.7280 - val_loss: 0.6999 - val_acc: 0.7317\n",
      "\n",
      "Epoch 00015: ReduceLROnPlateau reducing learning rate to 0.05000000074505806.\n",
      "Epoch 16/20\n",
      "2253/2253 [==============================] - 209s 93ms/step - loss: 0.7481 - acc: 0.7314 - val_loss: 0.6900 - val_acc: 0.7361\n",
      "Epoch 17/20\n",
      "2253/2253 [==============================] - 207s 92ms/step - loss: 0.7487 - acc: 0.7326 - val_loss: 0.6859 - val_acc: 0.7406\n",
      "Epoch 18/20\n",
      "2253/2253 [==============================] - 208s 92ms/step - loss: 0.7429 - acc: 0.7335 - val_loss: 0.7093 - val_acc: 0.7384\n",
      "\n",
      "Epoch 00018: ReduceLROnPlateau reducing learning rate to 0.02500000037252903.\n",
      "Epoch 19/20\n",
      "2253/2253 [==============================] - 207s 92ms/step - loss: 0.7399 - acc: 0.7346 - val_loss: 0.6860 - val_acc: 0.7395\n",
      "Epoch 20/20\n",
      "2253/2253 [==============================] - 208s 92ms/step - loss: 0.7331 - acc: 0.7341 - val_loss: 0.6824 - val_acc: 0.7406\n"
     ]
    }
   ],
   "source": [
    "cb = EarlyStopping(patience=5,verbose =1)\n",
    "batch_size=8\n",
    "history = mob2.fit_generator(\n",
    "    datagen.flow(x_adv_train_whole,y_adv_train_whole, batch_size=8),\n",
    "    steps_per_epoch=x_adv_train_whole.shape[0] // batch_size,\n",
    "    epochs=20,\n",
    "    validation_data=(x_new_val,y_val),\n",
    "    validation_steps=x_new_val.shape[0] // batch_size\n",
    "    ,callbacks=[lrr]\n",
    ")"
   ]
  },
  {
   "cell_type": "code",
   "execution_count": 37,
   "metadata": {},
   "outputs": [
    {
     "name": "stdout",
     "output_type": "stream",
     "text": [
      "1002/1002 [==============================] - 3s 3ms/step\n",
      "[0.648247743438104, 0.7614770461461263]\n"
     ]
    }
   ],
   "source": [
    "print(mob2.evaluate(x_new_test,y_test))"
   ]
  },
  {
   "cell_type": "markdown",
   "metadata": {},
   "source": [
    "## Model Robustness Across After Training MobileNet PGD Images ##"
   ]
  },
  {
   "cell_type": "code",
   "execution_count": 38,
   "metadata": {},
   "outputs": [
    {
     "name": "stdout",
     "output_type": "stream",
     "text": [
      "MobileNet Testing Score Before Adversarial Training\n",
      "1002/1002 [==============================] - 2s 2ms/step\n",
      "[0.6760566689059168, 0.7594810378051804]\n"
     ]
    }
   ],
   "source": [
    "print(\"MobileNet Testing Score Before Adversarial Training\")\n",
    "print(mob2.evaluate(x_adv_test_mob,y_adv_test_mob))"
   ]
  },
  {
   "cell_type": "markdown",
   "metadata": {},
   "source": [
    "## Model Robustness Across After Training VGG PGD Images ##"
   ]
  },
  {
   "cell_type": "code",
   "execution_count": 40,
   "metadata": {},
   "outputs": [
    {
     "name": "stdout",
     "output_type": "stream",
     "text": [
      "MobileNet Testing Score Before Adversarial Training\n",
      "1002/1002 [==============================] - 2s 2ms/step\n",
      "[1.3095231041936817, 0.6736526944918071]\n"
     ]
    }
   ],
   "source": [
    "print(\"MobileNet Testing Score Before Adversarial Training\")\n",
    "print(mob2.evaluate(x_adv_test_vgg,y_adv_test_vgg))"
   ]
  },
  {
   "cell_type": "markdown",
   "metadata": {},
   "source": [
    "## FGSM Results ##"
   ]
  },
  {
   "cell_type": "code",
   "execution_count": 43,
   "metadata": {},
   "outputs": [],
   "source": [
    "from art.attacks import FastGradientMethod"
   ]
  },
  {
   "cell_type": "code",
   "execution_count": 44,
   "metadata": {},
   "outputs": [],
   "source": [
    "min_pixel_value = 0.0\n",
    "max_pixel_value = 1.0\n",
    "classifier_1 = KerasClassifier(model= mob1, clip_values=(min_pixel_value, max_pixel_value), use_logits=False)"
   ]
  },
  {
   "cell_type": "code",
   "execution_count": 45,
   "metadata": {},
   "outputs": [],
   "source": [
    "eps=0.3\n",
    "attack_FGSM = FastGradientMethod(classifier=classifier_1)\n",
    "x_adv_test_FGSM = attack_FGSM.generate(x=x_new_test)"
   ]
  },
  {
   "cell_type": "code",
   "execution_count": 47,
   "metadata": {},
   "outputs": [
    {
     "name": "stdout",
     "output_type": "stream",
     "text": [
      "1002/1002 [==============================] - 2s 2ms/step\n",
      "[12.184666171045361, 0.024950099815270618]\n"
     ]
    }
   ],
   "source": [
    "print(mob1.evaluate(x_adv_test_FGSM,y_test))"
   ]
  }
 ],
 "metadata": {
  "kernelspec": {
   "display_name": "Python [conda env:tf_1.4]",
   "language": "python",
   "name": "conda-env-tf_1.4-py"
  },
  "language_info": {
   "codemirror_mode": {
    "name": "ipython",
    "version": 3
   },
   "file_extension": ".py",
   "mimetype": "text/x-python",
   "name": "python",
   "nbconvert_exporter": "python",
   "pygments_lexer": "ipython3",
   "version": "3.6.9"
  }
 },
 "nbformat": 4,
 "nbformat_minor": 4
}
